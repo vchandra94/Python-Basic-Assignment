{
  "nbformat": 4,
  "nbformat_minor": 0,
  "metadata": {
    "colab": {
      "provenance": []
    },
    "kernelspec": {
      "name": "python3",
      "display_name": "Python 3"
    },
    "language_info": {
      "name": "python"
    }
  },
  "cells": [
    {
      "cell_type": "markdown",
      "source": [
        "# **Assigmnet: Python Basic Question Answers**"
      ],
      "metadata": {
        "id": "x_bMLAI1qS0X"
      }
    },
    {
      "cell_type": "markdown",
      "source": [
        "**Question-1)** What is Python, and why is it popular?\n",
        "\n",
        "** Answer-1)**Python is a high-level, interpreted programming language. Python is known for its clear syntax, which is similar to the English language, making it easy to write and understand. It supports multiple programming paradigms like: Object-Oriented Programming (OOP), Procedural Programming, Functional Programming. Python is open-source and runs on many platforms like Windows, macOS, and Linux.\n",
        "\n",
        "Python is popular beacuse due to several key reasons:\n",
        "1. Simple and Readable Syntax\n",
        "2. Versatility\n",
        "3. Large Community and Support\n",
        "4. Extensive Libraries and Frameworks\n",
        "5. Cross-Platform Compatibility\n",
        "6. Used by Big Companies\n",
        "\n"
      ],
      "metadata": {
        "id": "dA0gwqI_6cW1"
      }
    },
    {
      "cell_type": "markdown",
      "source": [
        "**Question-2)** What is an interpreter in Python?\n",
        "\n",
        "**Answer-2)** An interpreter in Python is a program that reads, translates, and executes Python code line by line, without needing to compile the entire program into machine code first. It reads, analyzes, and executes the code, providing immediate feedback. This makes Python an interpreted language, contrasting with compiled languages where the entire code is translated before execution."
      ],
      "metadata": {
        "id": "f1K6F6FM6cim"
      }
    },
    {
      "cell_type": "markdown",
      "source": [
        "**Question-3)** What are pre-defined keywords in Python?\n",
        "\n",
        "**Answer-3)** Predefined keywords in Python are reserved words that have special meanings and functionalities within the language. They are integral to the syntax and structure of Python and cannot be used as identifiers (e.g., variable names, function names, class names) by the programmer. Example- if, else, elif, def, return, class, break, continue etc"
      ],
      "metadata": {
        "id": "fNmRnh6D6cug"
      }
    },
    {
      "cell_type": "markdown",
      "source": [
        "**Question-4)** Can keywords be used as variable names?\n",
        "\n",
        "**Answer-4)** No, keywords cannot be used as variable names in Python. They are \"reserved words,\" meaning they have a special, predefined meaning to the Python interpreter, and you cannot use them for any other purpose, such as naming variables, functions, classes, or modules.\n",
        "If we try to use a keyword as a variable name, we will get a Syntax Error.\n",
        "\n",
        "\n"
      ],
      "metadata": {
        "id": "X2CkQeZu6c_r"
      }
    },
    {
      "cell_type": "markdown",
      "source": [
        "**Question-5)** What is mutability in Python?\n",
        "\n",
        "**Answer-5)** In Python, mutability refers to whether an object's state or content can be changed after it has been created."
      ],
      "metadata": {
        "id": "0J1dS7ON6dCc"
      }
    },
    {
      "cell_type": "markdown",
      "source": [
        "**Question-6)** Why are lists mutable, but tuples are immutable?\n",
        "\n",
        "**Answer-6)** Lists are mutable because they are designed to store data that changes — like adding, removing, or updating items.\n",
        "\n",
        "Tuples are immutable because they are meant to store fixed data that should not be changed, ensuring data safety and allowing faster performance.\n",
        "Also, tuples can be used as keys in dictionaries, which requires them to be immutable."
      ],
      "metadata": {
        "id": "Gdh34SpS6dE2"
      }
    },
    {
      "cell_type": "markdown",
      "source": [
        "**question-7)** What is the difference between “==” and “is” operators in Python ?\n",
        "\n",
        "**Answer-7)** In Python, both == and is are used for comparison, but they serve different purposes and check for different things:\n",
        "\n",
        "\"==\" is refered as Equality operator which Checks for value equality. It determines if the values of two objects are the same.\n",
        "\n",
        "\"is\" it is refered as an Identity operator which Checks for object identity. It determines if two variables refer to the exact same object in memory."
      ],
      "metadata": {
        "id": "0yPVUGKs6dHT"
      }
    },
    {
      "cell_type": "markdown",
      "source": [
        "**Question-8)** What are logical operators in Python?\n",
        "\n",
        "**Answer-8)** In Python, logical operators are special keywords used to combine or modify boolean expressions (expressions that evaluate to True or False).\n",
        "There are three primary logical operators in Python:\n",
        "1. and\n",
        "2. or\n",
        "3. not"
      ],
      "metadata": {
        "id": "lZ-CJmmE6dJ5"
      }
    },
    {
      "cell_type": "markdown",
      "source": [
        "**Question-9)** What is type casting in Python?\n",
        "\n",
        "**Answer-9)** In Python Type Casting (also known as type conversion) means converting one data type into another.This is often necessary when performing operations that require specific data types or for data manipulation.\n",
        "It is used when we want to change the type of a variable — for example,converting flaot into integer or converting a string to an integer, or a float to a string."
      ],
      "metadata": {
        "id": "Lpdu59RK6dMH"
      }
    },
    {
      "cell_type": "markdown",
      "source": [
        "**Question-10)** What is the difference between implicit and explicit type casting ?\n",
        "\n",
        "**Answer-10)** Implicit casting, also known as widening or automatic type conversion, occurs automatically by the compiler when it can be safely done without data loss. Done automatically by Python.\n",
        "\n",
        "Explicit casting, or narrowing, requires the programmer to specify the conversion using a cast operator, as it may involve potential data loss or require handling potential errors. we use casting functions like int(), float(), str(), etc."
      ],
      "metadata": {
        "id": "ozNnHKTc6dOt"
      }
    },
    {
      "cell_type": "markdown",
      "source": [
        "**Question-11)** What is the purpose of conditional statements in Python?\n",
        "\n",
        "**Answer-11)** The primary purpose of conditional statements in Python is to allow our program to make decisions and execute different blocks of code based on specific conditions. They control the flow of execution, making programs dynamic and responsive to various inputs or situations. Conditional statements in Python are used to make decisions in a program based on certain conditions.\n",
        "\n",
        "To execute specific blocks of code only when a condition is True. They help the program:\n",
        "Choose different paths based on user input or values\n",
        "Control the flow of execution\n",
        "Respond to different situations or data"
      ],
      "metadata": {
        "id": "ubd1brg06dRP"
      }
    },
    {
      "cell_type": "markdown",
      "source": [
        "**Question-12)** How does the elif statement work?\n",
        "\n",
        "**Answer-12)** The elif statement in Python stands for \"else if\". It is used in conditional statements to check multiple conditions after an initial if statement.\n",
        "\n",
        "Syntax:\n",
        "\n",
        "if condition1: #code block if condition1 is True\n",
        "\n",
        "elif condition2: #code block if condition2 is True\n",
        "\n",
        "elif condition3: #code block if condition3 is True\n",
        "\n",
        "else: #code block if none of the above conditions are True\n",
        "\n",
        "How it works:\n",
        "\n",
        "Python checks the if condition first.\n",
        "\n",
        "If \"if\" is True, it runs that block and skips the rest.\n",
        "\n",
        "If \"if\" is False, it checks the first elif condition.\n",
        "\n",
        "If an \"elif\" is True, it executes that block and skips any further elif or else.\n",
        "\n",
        "If none of the if or elif conditions are true, it finally runs the else block (if provided).\n",
        "\n",
        "Example:\n",
        "\n",
        "age = 18\n",
        "if age < 13:\n",
        "    print(\"Child\")\n",
        "elif age < 20:\n",
        "    print(\"Teenager\")\n",
        "elif age < 60:\n",
        "    print(\"Adult\")\n",
        "else:\n",
        "    print(\"Senior\")"
      ],
      "metadata": {
        "id": "aZvW6Cq56dT3"
      }
    },
    {
      "cell_type": "markdown",
      "source": [
        "**Question-13)**  What is the difference between for and while loops?\n",
        "\n",
        "**Answer-13)** In Python, both for and while loops are used to repeat a block of code, but they work differently based on the situation.\n",
        "\n",
        "for Loop:\n",
        "Used when you know in advance how many times you want to loop.\n",
        "Iterates over a sequence (like a list, string, or range).\n",
        "\n",
        "Example:\n",
        "\n",
        "for i in range(5):\n",
        "    \n",
        "print(i)\n",
        "\n",
        "while Loop:\n",
        "Used when you don't know exactly how many times to loop.\n",
        "Repeats as long as a condition is True.\n",
        "Example:\n",
        "\n",
        "i = 0\n",
        "while i < 5:\n",
        "    \n",
        "   print(i)\n",
        "    \n",
        "   i += 1"
      ],
      "metadata": {
        "id": "CFI46zhT6dWM"
      }
    },
    {
      "cell_type": "markdown",
      "source": [
        "**Question-14)** Describe a scenario where a while loop is more suitable than a for loop.\n",
        "\n",
        "**Answer-14)** A while loop is more suitable than a for loop when the number of iterations is unknown beforehand and depends on a specific condition being met (or not met).\n",
        "\n",
        "Here's a classic scenario: User Input Validation.\n",
        "\n",
        "Scenario Description:\n",
        "\n",
        "Imagine you're writing a program that asks the user to enter their age. You want to ensure that the age entered is a valid positive number (e.g., not zero, negative, or non-numeric text). The program should keep prompting the user for input until they provide valid data.\n",
        "\n",
        "Why a while loop is more suitable here:\n",
        "\n",
        "Unknown Number of Attempts: You don't know how many times the user will enter invalid input before getting it right. They might enter it correctly on the first try, or they might make several mistakes.\n",
        "\n",
        "Condition-Driven Repetition: The loop needs to continue \"while\" the input is invalid. Once the input becomes valid, the loop should terminate.\n",
        "\n",
        "A for loop would require you to specify a fixed number of iterations.\n",
        "\n",
        "A while loop is more suitable than a for loop when the number of iterations is unknown beforehand and depends on a specific condition being met (or not met).\n",
        "\n",
        "Here's a classic scenario: User Input Validation.\n",
        "\n",
        "Scenario Description:\n",
        "\n",
        "Imagine you're writing a program that asks the user to enter their age. You want to ensure that the age entered is a valid positive number (e.g., not zero, negative, or non-numeric text). The program should keep prompting the user for input until they provide valid data.\n",
        "\n",
        "Why a while loop is more suitable here:\n",
        "\n",
        "Unknown Number of Attempts: You don't know how many times the user will enter invalid input before getting it right. They might enter it correctly on the first try, or they might make several mistakes.\n",
        "\n",
        "Condition-Driven Repetition: The loop needs to continue \"while\" the input is invalid. Once the input becomes valid, the loop should terminate.\n",
        "\n",
        "\n",
        "Why a for loop would be unsuitable:\n",
        "A for loop would require you to specify a fixed number of iterations. This for loop approach has several drawbacks:\n",
        "\n",
        "Arbitrary Limit: You'd have to guess at an arbitrary maximum number of attempts (e.g., 5, 10). If the user exceeds this, they're unfairly locked out.\n",
        "\n",
        "Less Intuitive: The primary control mechanism isn't directly tied to the validity of the input but rather to a counter.\n",
        "\n",
        "Handling Failure: While you can use break to exit early, you still have to consider what happens if the attempts run out, which isn't the primary goal.\n",
        "\n",
        "In contrast, the while loop naturally expresses the intent: \"Keep asking for age while the age is invalid.\""
      ],
      "metadata": {
        "id": "WW84wjRs6dY0"
      }
    },
    {
      "cell_type": "markdown",
      "source": [
        "#                                                    ***PRACTICAL QUESTION***"
      ],
      "metadata": {
        "id": "6lowctZ16dd1"
      }
    },
    {
      "cell_type": "code",
      "source": [
        "#Question-1) Write a Python program to print \"Hello, World!\"\n",
        "#Answer\n",
        "\n",
        "print(\"Hello, World!\")"
      ],
      "metadata": {
        "id": "DzgOE0sHSNW3"
      },
      "execution_count": null,
      "outputs": []
    },
    {
      "cell_type": "code",
      "source": [
        "#Question-2) Write a Python program that displays your name and age\n",
        "#Answer:-\n",
        "\n",
        "name = \"Vimal Chandra\"\n",
        "age = 30\n",
        "\n",
        "print(\"My name is: \",name)\n",
        "print(\"My age is: \",age)"
      ],
      "metadata": {
        "id": "oD7nI5Q9TewO"
      },
      "execution_count": null,
      "outputs": []
    },
    {
      "cell_type": "code",
      "source": [
        "#Question-3) Write code to print all the pre-defined keywords in Python using the keyword library.\n",
        "#Answer-\n",
        "\n",
        "import keyword\n",
        "keywords = keyword.kwlist\n",
        "print(\"Python Keywords:\", end=\"\")\n",
        "for kw in keywords:\n",
        "    print(kw)"
      ],
      "metadata": {
        "id": "_5T_cHtgUixu"
      },
      "execution_count": null,
      "outputs": []
    },
    {
      "cell_type": "code",
      "source": [
        "#Question-4) Write a program that checks if a given word is a Python keyword.\n",
        "#Answer-\n",
        "\n",
        "import keyword\n",
        "word = input(\"Enter a word: \")\n",
        "if keyword.iskeyword(word):\n",
        "    print(f\"'{word}' is a Python keyword.\")\n",
        "else:\n",
        "    print(f\"'{word}' is NOT a Python keyword.\")"
      ],
      "metadata": {
        "id": "wFhER8hyVFbJ"
      },
      "execution_count": null,
      "outputs": []
    },
    {
      "cell_type": "code",
      "source": [
        "#Question-5)Create a list and tuple in Python, and demonstrate how attempting to change an element works differently for each.\n",
        "#Answer\n",
        "\n",
        "\n",
        "# Creating a list\n",
        "my_list = [10, 20, 30]\n",
        "print(\"Original list:\", my_list)\n",
        "\n",
        "# Modifying an element in the list\n",
        "my_list[1] = 99\n",
        "print(\"Modified list:\", my_list)\n",
        "\n",
        "# Creating a tuple\n",
        "my_tuple = (10, 20, 30)\n",
        "print(\"\\nOriginal tuple:\", my_tuple)\n",
        "\n",
        "# Attempting to modify an element in the tuple\n",
        "try:\n",
        "    my_tuple[1] = 99\n",
        "except TypeError as e:\n",
        "    print(\"Error while modifying tuple:\", e)\n",
        "\n",
        "\n"
      ],
      "metadata": {
        "id": "ctEhZsBsWs30"
      },
      "execution_count": null,
      "outputs": []
    },
    {
      "cell_type": "code",
      "source": [
        "#Question-6) Write a function to demonstrate the behavior of mutable and immutable arguments\n",
        "#Answer-\n",
        "\n",
        "def demonstrate_mutability(my_list, my_dict, my_string, my_int):\n",
        "    # Modify mutable types\n",
        "    my_list.append(10)\n",
        "    my_dict[\"new_key\"] = \"new_value\"\n",
        "\n",
        "    # Attempt to modify immutable types\n",
        "    my_string += \" world\"\n",
        "    my_int += 5\n",
        "\n",
        "    print(\"Inside function:\")\n",
        "    print(\"List (mutable):\", my_list)\n",
        "    print(\"Dict (mutable):\", my_dict)\n",
        "    print(\"String (immutable):\", my_string)\n",
        "    print(\"Int (immutable):\", my_int)\n",
        "\n",
        "# Original variables\n",
        "original_list = [1, 2, 3]\n",
        "original_dict = {\"a\": 1}\n",
        "original_string = \"Hello\"\n",
        "original_int = 100\n",
        "\n",
        "# Call the function\n",
        "demonstrate_mutability(original_list, original_dict, original_string, original_int)\n",
        "\n",
        "# Print values after function call\n",
        "print(\"\\nOutside function:\")\n",
        "print(\"List (mutable):\", original_list)       # Changed\n",
        "print(\"Dict (mutable):\", original_dict)       # Changed\n",
        "print(\"String (immutable):\", original_string) # Unchanged\n",
        "print(\"Int (immutable):\", original_int)       # Unchanged\n",
        "\n"
      ],
      "metadata": {
        "id": "So0uzOMZWsRx"
      },
      "execution_count": null,
      "outputs": []
    },
    {
      "cell_type": "code",
      "source": [
        "#Question-7)  Write a program that performs basic arithmetic operations on two user-input numbers.\n",
        "#Answer-\n",
        "\n",
        "num1 = float(input(\"Enter first number: \"))\n",
        "num2 = float(input(\"Enter second number: \"))\n",
        "\n",
        "#to avoid division by zero\n",
        "if num2 != 0:\n",
        "    division = num1 / num2\n",
        "else:\n",
        "    division = \"Undefined (cannot divide by zero)\"\n",
        "\n",
        "# Display the results\n",
        "print(\"\\nResults:\")\n",
        "print(\"Addition:\",num1 + num2)\n",
        "print(\"Subtraction:\",  num1 - num2)\n",
        "print(\"Multiplication:\", num1 * num2)\n",
        "print(\"Division:\", division)\n",
        "\n"
      ],
      "metadata": {
        "id": "duYMEPy3fFg_"
      },
      "execution_count": null,
      "outputs": []
    },
    {
      "cell_type": "code",
      "source": [
        "#Question-8)  Write a program to demonstrate the use of logical operators.\n",
        "#Answer-\n",
        "\n",
        "a = int(input(\"Enter first number: \"))\n",
        "b = int(input(\"Enter second number: \"))\n",
        "\n",
        "# Logical AND\n",
        "if a > 0 and b > 0:\n",
        "    print(\"\\nBoth numbers are positive (AND condition is True).\")\n",
        "else:\n",
        "    print(\"\\nAt least one number is not positive (AND condition is False).\")\n",
        "\n",
        "# Logical OR\n",
        "if a > 0 or b > 0:\n",
        "    print(\"At least one number is positive (OR condition is True).\")\n",
        "else:\n",
        "    print(\"Both numbers are not positive (OR condition is False).\")\n",
        "\n",
        "# Logical NOT\n",
        "print(\"\\nUsing NOT operator:\")\n",
        "print(\"NOT(a > 0):\", not (a > 0))\n",
        "print(\"NOT(b > 0):\", not (b > 0))\n",
        "\n"
      ],
      "metadata": {
        "id": "DgdpT0ZZhkec"
      },
      "execution_count": null,
      "outputs": []
    },
    {
      "cell_type": "code",
      "source": [
        "#Question-9\n",
        "#Answer-\n",
        "\n",
        "user_input = input(\"Enter a value: \")\n",
        "\n",
        "# Convert to integer\n",
        "try:\n",
        "    int_value = int(user_input)\n",
        "    print(\"Integer:\", int_value)\n",
        "except ValueError:\n",
        "    print(\"Cannot convert to Integer.\")\n",
        "\n",
        "# Convert to float\n",
        "try:\n",
        "    float_value = float(user_input)\n",
        "    print(\"Float:\", float_value)\n",
        "except ValueError:\n",
        "    print(\"Cannot convert to Float.\")\n",
        "\n",
        "# Convert to boolean\n",
        "if user_input == \"\" or \"0\":\n",
        "    bool_value = False\n",
        "else:\n",
        "    bool_value = True\n",
        "print(\"Boolean:\", bool_value)\n",
        "\n"
      ],
      "metadata": {
        "id": "zmzO7wAHlhUd"
      },
      "execution_count": null,
      "outputs": []
    },
    {
      "cell_type": "code",
      "source": [
        "#Question-10) Write code to demonstrate type casting with list elements\n",
        "#Answer-\n",
        "\n",
        "string_list = ['1', '2', '3']\n",
        "\n",
        "int_list = [int(x) for x in string_list]\n",
        "\n",
        "print(\"Original list (strings):\", string_list)\n",
        "print(\"Converted list (integers):\", int_list)\n"
      ],
      "metadata": {
        "id": "c4ZKO-IAnmuF"
      },
      "execution_count": null,
      "outputs": []
    },
    {
      "cell_type": "code",
      "source": [
        "#Question-11)  Write a program that checks if a number is positive, negative, or zero.\n",
        "#Answer-\n",
        "\n",
        "num = float(input(\"Enter a number: \"))\n",
        "\n",
        "if num > 0:\n",
        "    print(\"The number is positive.\")\n",
        "elif num < 0:\n",
        "    print(\"The number is negative.\")\n",
        "else:\n",
        "    print(\"The number is zero.\")\n"
      ],
      "metadata": {
        "id": "WoJoU1dZpl-Q"
      },
      "execution_count": null,
      "outputs": []
    },
    {
      "cell_type": "code",
      "source": [
        "#Question-12)  Write a for loop to print numbers from 1 to 10.\n",
        "#Answer-\n",
        "for i in range(1, 11):\n",
        "  print(i, end=\" \")"
      ],
      "metadata": {
        "colab": {
          "base_uri": "https://localhost:8080/"
        },
        "id": "1cixrrwdqm7w",
        "outputId": "2a73e910-c8b2-44a4-dee7-2c50b28b182d"
      },
      "execution_count": 31,
      "outputs": [
        {
          "output_type": "stream",
          "name": "stdout",
          "text": [
            "1 2 3 4 5 6 7 8 9 10 "
          ]
        }
      ]
    },
    {
      "cell_type": "code",
      "source": [
        "#Question-13)  Write a Python program to find the sum of all even numbers between 1 and 50\n",
        "#Answer-\n",
        "\n",
        "sum_even = 0\n",
        "\n",
        "for num in range(2, 51, 2):\n",
        "    sum_even += num\n",
        "\n",
        "print(\"The sum of even numbers between 1 and 50 is:\", sum_even)\n"
      ],
      "metadata": {
        "colab": {
          "base_uri": "https://localhost:8080/"
        },
        "id": "VSalDn0orehL",
        "outputId": "f6248e69-eaba-4798-9f84-d6b36333763d"
      },
      "execution_count": 32,
      "outputs": [
        {
          "output_type": "stream",
          "name": "stdout",
          "text": [
            "The sum of even numbers between 1 and 50 is: 650\n"
          ]
        }
      ]
    },
    {
      "cell_type": "code",
      "source": [
        "#Question-14) Write a program to reverse a string using a while loop.\n",
        "#Answer-\n",
        "\n",
        "text = input(\"Enter a string: \")\n",
        "\n",
        "reversed_text = \"\"\n",
        "index = len(text) - 1\n",
        "\n",
        "while index >= 0:\n",
        "    reversed_text += text[index]\n",
        "    index -= 1\n",
        "\n",
        "print(\"Reversed string is:\", reversed_text)"
      ],
      "metadata": {
        "id": "6pZfmUJGsQzF"
      },
      "execution_count": null,
      "outputs": []
    },
    {
      "cell_type": "code",
      "source": [
        "#Question-15)  Write a Python program to calculate the factorial of a number provided by the user using a while loop.\n",
        "#Answer-\n",
        "\n",
        "num = int(input(\"Enter a non-negative integer: \"))\n",
        "\n",
        "if num < 0:\n",
        "    print(\"Factorial is not defined for negative numbers.\")\n",
        "else:\n",
        "    factorial = 1\n",
        "    i = 1\n",
        "\n",
        "    while i <= num:\n",
        "        factorial *= i\n",
        "        i += 1\n",
        "\n",
        "    print(f\"The factorial of {num} is: {factorial}\")\n"
      ],
      "metadata": {
        "id": "O2hkZMK2uUuB"
      },
      "execution_count": null,
      "outputs": []
    },
    {
      "cell_type": "code",
      "source": [],
      "metadata": {
        "id": "AW0_DNv8v4DI"
      },
      "execution_count": null,
      "outputs": []
    }
  ]
}